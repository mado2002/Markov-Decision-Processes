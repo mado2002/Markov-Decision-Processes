{
 "cells": [
  {
   "cell_type": "markdown",
   "metadata": {},
   "source": [
    "# Assignment 3\n",
    "\n",
    "# Markov Decision Processes\n",
    "\n",
    "> Mohamed Wael Fathy (20011752) <br>\n",
    "\n",
    "> Youssef Hossam Aboelwafa (20012263) <br>\n",
    "\n",
    "> Ahmed Samir Elsayed (20010107) <br>\n",
    "\n",
    "> Youssef Mohamed Hassan (20012293) <br>\n"
   ]
  },
  {
   "cell_type": "code",
   "execution_count": 1,
   "metadata": {},
   "outputs": [],
   "source": [
    "def calc_transition(x1, y1, a, x2, y2):\n",
    "    # new state is up\n",
    "    if x2 == x1 - 1 and y2 == y1:\n",
    "        # action is up\n",
    "        if a == 0:\n",
    "            return round(0.8, 5)\n",
    "        # action is right\n",
    "        elif a == 2:\n",
    "            return round(0.1, 5)\n",
    "        # action is left\n",
    "        elif a == 3:\n",
    "            return round(0.1, 5)\n",
    "    # new state is down\n",
    "    elif x2 == x1 + 1 and y2 == y1:\n",
    "        # action is down\n",
    "        if a == 1:\n",
    "            return round(0.8, 5)\n",
    "        # action is right\n",
    "        elif a == 2:\n",
    "            return round(0.1, 5)\n",
    "        # action is left\n",
    "        elif a == 3:\n",
    "            return round(0.1, 5)\n",
    "    # new state is right\n",
    "    elif x2 == x1 and y2 == y1 + 1:\n",
    "        # action is right\n",
    "        if a == 2:\n",
    "            return round(0.8, 5)\n",
    "        # action is up\n",
    "        elif a == 0:\n",
    "            return round(0.1, 5)\n",
    "        # action is down\n",
    "        elif a == 1:\n",
    "            return round(0.1, 5)\n",
    "    # new state is left\n",
    "    elif x2 == x1 and y2 == y1 - 1:\n",
    "        # action is left\n",
    "        if a == 3:\n",
    "            return round(0.8, 5)\n",
    "        # action is up\n",
    "        elif a == 0:\n",
    "            return round(0.1, 5)\n",
    "        # action is down\n",
    "        elif a == 1:\n",
    "            return round(0.1, 5)"
   ]
  },
  {
   "cell_type": "code",
   "execution_count": 2,
   "metadata": {},
   "outputs": [],
   "source": [
    "def calculate_reward(x, y, r):\n",
    "    if x == 0 and y == 0:\n",
    "        return r\n",
    "    elif x == 0 and y == 2:\n",
    "        return 10\n",
    "    else:\n",
    "        return -1"
   ]
  },
  {
   "cell_type": "code",
   "execution_count": 3,
   "metadata": {},
   "outputs": [],
   "source": [
    "def Calc_Bellman_eq(i, j, ci, cj, ci1, cj1, ci2, cj2, action, arr, r):\n",
    "    if 0 <= ci < 3 and 0 <= cj < 3:\n",
    "        result = round(\n",
    "            calc_transition(i, j, action, ci, cj)\n",
    "            * (round(calculate_reward(i, j, r), 5) + round(0.99 * arr[ci][cj], 5)),\n",
    "            5,\n",
    "        )\n",
    "        result = round(result, 5)\n",
    "    else:\n",
    "        result = round(\n",
    "            calc_transition(i, j, action, ci, cj)\n",
    "            * (round(calculate_reward(i, j, r), 5) + round(0.99 * arr[i][j], 5)),\n",
    "            5,\n",
    "        )\n",
    "        result = round(result, 5)\n",
    "    if 0 <= ci1 < 3 and 0 <= cj1 < 3:\n",
    "        result = round(result, 5)\n",
    "        result += round(\n",
    "            calc_transition(i, j, action, ci1, cj1)\n",
    "            * (calculate_reward(i, j, r) + round(0.99 * arr[ci1][cj1], 5)),\n",
    "            5,\n",
    "        )\n",
    "    else:\n",
    "        result = round(result, 5)\n",
    "        result += round(\n",
    "            calc_transition(i, j, action, ci1, cj1)\n",
    "            * (calculate_reward(i, j, r) + round(0.99 * arr[i][j], 5)),\n",
    "            5,\n",
    "        )\n",
    "    if 0 <= ci2 < 3 and 0 <= cj2 < 3:\n",
    "        result = round(result, 5)\n",
    "        result += round(\n",
    "            calc_transition(i, j, action, ci2, cj2)\n",
    "            * (calculate_reward(i, j, r) + round(0.99 * arr[ci2][cj2], 5)),\n",
    "            5,\n",
    "        )\n",
    "    else:\n",
    "        result = round(result, 5)\n",
    "        result += round(\n",
    "            calc_transition(i, j, action, ci2, cj2)\n",
    "            * (calculate_reward(i, j, r) + round(0.99 * arr[i][j], 5)),\n",
    "            5,\n",
    "        )\n",
    "\n",
    "    result = round(result, 5)\n",
    "    return result"
   ]
  },
  {
   "cell_type": "code",
   "execution_count": 4,
   "metadata": {},
   "outputs": [],
   "source": [
    "def max_absolute_difference(array1, array2):\n",
    "    # Ensure that the arrays have the same shape\n",
    "    if len(array1) != len(array2) or len(array1[0]) != len(array2[0]):\n",
    "        raise ValueError(\"Arrays must have the same shape\")\n",
    "\n",
    "    max_diff = 0\n",
    "\n",
    "    for i in range(len(array1)):\n",
    "        for j in range(len(array1[0])):\n",
    "            diff = abs(array1[i][j] - array2[i][j])\n",
    "            max_diff = max(max_diff, diff)\n",
    "\n",
    "    return max_diff"
   ]
  },
  {
   "cell_type": "code",
   "execution_count": 5,
   "metadata": {},
   "outputs": [],
   "source": [
    "actions = [0, 1, 2, 3]\n",
    "movements = {0: (-1, 0), 1: (1, 0), 2: (0, 1), 3: (0, -1)}\n",
    "\n",
    "\n",
    "def iteration_function(arr, r):\n",
    "    delta = 0\n",
    "    while True:\n",
    "        new_arr = [[0, 0, 0] for i in range(3)]\n",
    "        new_arr[0][2] = 10\n",
    "        new_arr[0][0] = r\n",
    "        for i in range(3):\n",
    "            for j in range(3):\n",
    "                if (i == 0 and j == 2) or (i == 0 and j == 0):\n",
    "                    continue\n",
    "                else:\n",
    "                    values = []\n",
    "                    for action in actions:\n",
    "                        ci, cj = i + movements[action][0], j + movements[action][1]\n",
    "                        r1, r2 = get_right_angels(action)\n",
    "                        ci1, cj1 = i + movements[r1][0], j + movements[r1][1]\n",
    "                        ci2, cj2 = i + movements[r2][0], j + movements[r2][1]\n",
    "                        result = Calc_Bellman_eq(\n",
    "                            i, j, ci, cj, ci1, cj1, ci2, cj2, action, arr, r\n",
    "                        )\n",
    "                        values.append(result)\n",
    "                    new_arr[i][j] = max(values)\n",
    "\n",
    "        delta = max_absolute_difference(arr, new_arr)\n",
    "        if delta < 0.0000001:\n",
    "            return arr\n",
    "        arr = new_arr\n",
    "\n",
    "\n",
    "def get_right_angels(action):\n",
    "    if action == 0:\n",
    "        return 2, 3\n",
    "    if action == 1:\n",
    "        return 2, 3\n",
    "    if action == 2:\n",
    "        return 0, 1\n",
    "    if action == 3:\n",
    "        return 0, 1"
   ]
  },
  {
   "cell_type": "code",
   "execution_count": 6,
   "metadata": {},
   "outputs": [],
   "source": [
    "def optain_policy(arr, r):\n",
    "    policy = [[\"\", \"\", \"\"] for i in range(3)]\n",
    "    for i in range(3):\n",
    "        for j in range(3):\n",
    "            if i == 0 and j == 2:\n",
    "                policy[i][j] = \"10\"\n",
    "                continue\n",
    "            if i == 0 and j == 0:\n",
    "                policy[i][j] = str(r)\n",
    "                continue\n",
    "            else:\n",
    "                max_value = -100000000\n",
    "                max_action = 0\n",
    "                for action in actions:\n",
    "                    ci, cj = i + movements[action][0], j + movements[action][1]\n",
    "                    r1, r2 = get_right_angels(action)\n",
    "                    ci1, cj1 = i + movements[r1][0], j + movements[r1][1]\n",
    "                    ci2, cj2 = i + movements[r2][0], j + movements[r2][1]\n",
    "                    result = Calc_Bellman_eq(\n",
    "                        i, j, ci, cj, ci1, cj1, ci2, cj2, action, arr, r\n",
    "                    )\n",
    "                    if result > max_value:\n",
    "                        max_value = result\n",
    "                        max_action = action\n",
    "                if max_action == 0:\n",
    "                    policy[i][j] = \"↑\"\n",
    "                elif max_action == 1:\n",
    "                    policy[i][j] = \"↓\"\n",
    "                elif max_action == 2:\n",
    "                    policy[i][j] = \"→\"\n",
    "                elif max_action == 3:\n",
    "                    policy[i][j] = \"←\"\n",
    "    return policy"
   ]
  },
  {
   "cell_type": "markdown",
   "metadata": {},
   "source": [
    "## value Iteration"
   ]
  },
  {
   "cell_type": "code",
   "execution_count": 7,
   "metadata": {},
   "outputs": [],
   "source": [
    "def value_iteration(r):\n",
    "    arr = [[0, 0, 0] for i in range(3)]\n",
    "    arr[0][2] = 10\n",
    "    arr[0][0] = r\n",
    "    array = iteration_function(arr, r)\n",
    "    print(\"----------------Values----------------\\n\")\n",
    "    for row in array:\n",
    "        print(\" \".join(format(x, \"10\") for x in row))\n",
    "    policy = optain_policy(array, r)\n",
    "\n",
    "    print(\"\\n----------------Policy----------------\\n\")\n",
    "    for row in policy:\n",
    "        print(\" \".join(format(x, \"10\") for x in row))"
   ]
  },
  {
   "cell_type": "markdown",
   "metadata": {},
   "source": [
    "## `r = -3`\n"
   ]
  },
  {
   "cell_type": "code",
   "execution_count": 8,
   "metadata": {},
   "outputs": [
    {
     "name": "stdout",
     "output_type": "stream",
     "text": [
      "\n",
      "r =  -3\n",
      "----------------Values----------------\n",
      "\n",
      "        -3    8.46194         10\n",
      "   4.78304    7.11321    8.46194\n",
      "   4.50885    5.79413    6.96502\n",
      "\n",
      "----------------Policy----------------\n",
      "\n",
      "-3         →          10        \n",
      "→          →          ↑         \n",
      "→          →          ↑         \n"
     ]
    }
   ],
   "source": [
    "print(\"\\nr = \", -3)\n",
    "value_iteration(-3)"
   ]
  },
  {
   "cell_type": "markdown",
   "metadata": {},
   "source": [
    "## `r = 0`\n"
   ]
  },
  {
   "cell_type": "code",
   "execution_count": 9,
   "metadata": {},
   "outputs": [
    {
     "name": "stdout",
     "output_type": "stream",
     "text": [
      "\n",
      "r =  0\n",
      "----------------Values----------------\n",
      "\n",
      "         0    8.46194         10\n",
      "    5.0833    7.11321    8.46194\n",
      "   4.54184    5.79413    6.96502\n",
      "\n",
      "----------------Policy----------------\n",
      "\n",
      "0          →          10        \n",
      "→          →          ↑         \n",
      "→          →          ↑         \n"
     ]
    }
   ],
   "source": [
    "print(\"\\nr = \", 0)\n",
    "value_iteration(0)"
   ]
  },
  {
   "cell_type": "markdown",
   "metadata": {},
   "source": [
    "## `r = 3`\n"
   ]
  },
  {
   "cell_type": "code",
   "execution_count": 10,
   "metadata": {},
   "outputs": [
    {
     "name": "stdout",
     "output_type": "stream",
     "text": [
      "\n",
      "r =  3\n",
      "----------------Values----------------\n",
      "\n",
      "         3    8.46194         10\n",
      "   5.38357    7.11321    8.46194\n",
      "   4.57483    5.79413    6.96502\n",
      "\n",
      "----------------Policy----------------\n",
      "\n",
      "3          →          10        \n",
      "→          →          ↑         \n",
      "→          →          ↑         \n"
     ]
    }
   ],
   "source": [
    "print(\"\\nr = \", 3)\n",
    "value_iteration(3)"
   ]
  },
  {
   "cell_type": "markdown",
   "metadata": {},
   "source": [
    "## `r = 100`\n"
   ]
  },
  {
   "cell_type": "code",
   "execution_count": 11,
   "metadata": {},
   "outputs": [
    {
     "name": "stdout",
     "output_type": "stream",
     "text": [
      "\n",
      "r =  100\n",
      "----------------Values----------------\n",
      "\n",
      "       100   97.20353         10\n",
      "  97.20353   94.75128   88.20426\n",
      "  94.48183   92.35293    89.7622\n",
      "\n",
      "----------------Policy----------------\n",
      "\n",
      "100        ←          10        \n",
      "↑          ←          ↓         \n",
      "↑          ←          ←         \n"
     ]
    }
   ],
   "source": [
    "print(\"\\nr = \", 100)\n",
    "value_iteration(100)"
   ]
  },
  {
   "cell_type": "markdown",
   "metadata": {},
   "source": [
    "## Policy Iteration"
   ]
  },
  {
   "cell_type": "code",
   "execution_count": null,
   "metadata": {},
   "outputs": [],
   "source": []
  },
  {
   "cell_type": "markdown",
   "metadata": {},
   "source": [
    "# Conclusion\n"
   ]
  },
  {
   "cell_type": "markdown",
   "metadata": {},
   "source": [
    "## When `r = 100`\n",
    "\n",
    "- **Justification:** <br>r is bigger than 10 cell, so the the reward of the r cell is big enough to make the value of the state of this cell high so that agent will maximize and go to it.\n"
   ]
  },
  {
   "cell_type": "markdown",
   "metadata": {},
   "source": [
    "## When `r = -3` `r = 0` `r = 3`\n",
    "\n",
    "- **Justification:**<br> They are all less than 10, and discount factor keeps the value of the 10 high so the agent will prefer to go to it, the optimal policy will be the sequence of actions that points to the 10 cell.\n"
   ]
  }
 ],
 "metadata": {
  "kernelspec": {
   "display_name": "Python 3",
   "language": "python",
   "name": "python3"
  },
  "language_info": {
   "codemirror_mode": {
    "name": "ipython",
    "version": 3
   },
   "file_extension": ".py",
   "mimetype": "text/x-python",
   "name": "python",
   "nbconvert_exporter": "python",
   "pygments_lexer": "ipython3",
   "version": "3.10.7"
  }
 },
 "nbformat": 4,
 "nbformat_minor": 2
}
