{
 "cells": [
  {
   "cell_type": "code",
   "execution_count": 40,
   "metadata": {},
   "outputs": [
    {
     "name": "stdout",
     "output_type": "stream",
     "text": [
      "[[100, 0, 10], [0, 0, 0], [0, 0, 0]]\n"
     ]
    },
    {
     "ename": "TypeError",
     "evalue": "unsupported operand type(s) for *: 'NoneType' and 'float'",
     "output_type": "error",
     "traceback": [
      "\u001b[1;31m---------------------------------------------------------------------------\u001b[0m",
      "\u001b[1;31mTypeError\u001b[0m                                 Traceback (most recent call last)",
      "Cell \u001b[1;32mIn[40], line 7\u001b[0m\n\u001b[0;32m      4\u001b[0m     arr[\u001b[38;5;241m0\u001b[39m][\u001b[38;5;241m0\u001b[39m]\u001b[38;5;241m=\u001b[39mr\n\u001b[0;32m      5\u001b[0m     iteration_function(arr,r)\n\u001b[1;32m----> 7\u001b[0m \u001b[43minitialize\u001b[49m\u001b[43m(\u001b[49m\u001b[38;5;241;43m100\u001b[39;49m\u001b[43m)\u001b[49m    \n",
      "Cell \u001b[1;32mIn[40], line 5\u001b[0m, in \u001b[0;36minitialize\u001b[1;34m(r)\u001b[0m\n\u001b[0;32m      3\u001b[0m arr[\u001b[38;5;241m0\u001b[39m][\u001b[38;5;241m2\u001b[39m]\u001b[38;5;241m=\u001b[39m\u001b[38;5;241m10\u001b[39m\n\u001b[0;32m      4\u001b[0m arr[\u001b[38;5;241m0\u001b[39m][\u001b[38;5;241m0\u001b[39m]\u001b[38;5;241m=\u001b[39mr\n\u001b[1;32m----> 5\u001b[0m \u001b[43miteration_function\u001b[49m\u001b[43m(\u001b[49m\u001b[43marr\u001b[49m\u001b[43m,\u001b[49m\u001b[43mr\u001b[49m\u001b[43m)\u001b[49m\n",
      "Cell \u001b[1;32mIn[39], line 29\u001b[0m, in \u001b[0;36miteration_function\u001b[1;34m(arr, r)\u001b[0m\n\u001b[0;32m     27\u001b[0m result\u001b[38;5;241m=\u001b[39mcalc_transition(i,j,action,ci,cj) \u001b[38;5;241m*\u001b[39m ( calculate_reward(ci,cj,r) \u001b[38;5;241m+\u001b[39m \u001b[38;5;241m0.99\u001b[39m \u001b[38;5;241m*\u001b[39m arr[ci][ cj])\n\u001b[0;32m     28\u001b[0m \u001b[38;5;28;01mif\u001b[39;00m \u001b[38;5;241m0\u001b[39m \u001b[38;5;241m<\u001b[39m\u001b[38;5;241m=\u001b[39m ci1 \u001b[38;5;241m<\u001b[39m \u001b[38;5;241m3\u001b[39m \u001b[38;5;129;01mand\u001b[39;00m \u001b[38;5;241m0\u001b[39m \u001b[38;5;241m<\u001b[39m\u001b[38;5;241m=\u001b[39m cj1 \u001b[38;5;241m<\u001b[39m \u001b[38;5;241m3\u001b[39m:\n\u001b[1;32m---> 29\u001b[0m     result\u001b[38;5;241m+\u001b[39m\u001b[38;5;241m=\u001b[39m\u001b[43mcalc_transition\u001b[49m\u001b[43m(\u001b[49m\u001b[43mi\u001b[49m\u001b[43m,\u001b[49m\u001b[43mj\u001b[49m\u001b[43m,\u001b[49m\u001b[43mr1\u001b[49m\u001b[43m,\u001b[49m\u001b[43mci1\u001b[49m\u001b[43m,\u001b[49m\u001b[43mcj1\u001b[49m\u001b[43m)\u001b[49m\u001b[43m \u001b[49m\u001b[38;5;241;43m*\u001b[39;49m\u001b[43m \u001b[49m\u001b[43m(\u001b[49m\u001b[43m \u001b[49m\u001b[43mcalculate_reward\u001b[49m\u001b[43m(\u001b[49m\u001b[43mci1\u001b[49m\u001b[43m,\u001b[49m\u001b[43mcj1\u001b[49m\u001b[43m,\u001b[49m\u001b[43mr\u001b[49m\u001b[43m)\u001b[49m\u001b[43m \u001b[49m\u001b[38;5;241;43m+\u001b[39;49m\u001b[43m \u001b[49m\u001b[38;5;241;43m0.99\u001b[39;49m\u001b[43m \u001b[49m\u001b[38;5;241;43m*\u001b[39;49m\u001b[43m \u001b[49m\u001b[43marr\u001b[49m\u001b[43m[\u001b[49m\u001b[43mci1\u001b[49m\u001b[43m]\u001b[49m\u001b[43m[\u001b[49m\u001b[43mcj1\u001b[49m\u001b[43m]\u001b[49m\u001b[43m)\u001b[49m\n\u001b[0;32m     30\u001b[0m \u001b[38;5;28;01mif\u001b[39;00m \u001b[38;5;241m0\u001b[39m \u001b[38;5;241m<\u001b[39m\u001b[38;5;241m=\u001b[39m ci2 \u001b[38;5;241m<\u001b[39m \u001b[38;5;241m3\u001b[39m \u001b[38;5;129;01mand\u001b[39;00m \u001b[38;5;241m0\u001b[39m \u001b[38;5;241m<\u001b[39m\u001b[38;5;241m=\u001b[39m cj2 \u001b[38;5;241m<\u001b[39m \u001b[38;5;241m3\u001b[39m:\n\u001b[0;32m     31\u001b[0m     result\u001b[38;5;241m+\u001b[39m\u001b[38;5;241m=\u001b[39mcalc_transition(i,j,r2,ci2,cj2) \u001b[38;5;241m*\u001b[39m ( calculate_reward(ci2,cj2,r) \u001b[38;5;241m+\u001b[39m \u001b[38;5;241m0.99\u001b[39m \u001b[38;5;241m*\u001b[39m arr[ci2][cj2])\n",
      "\u001b[1;31mTypeError\u001b[0m: unsupported operand type(s) for *: 'NoneType' and 'float'"
     ]
    }
   ],
   "source": [
    "def initialize(r):\n",
    "    arr =[[0,0,0] for i in range(3)]\n",
    "    arr[0][2]=10\n",
    "    arr[0][0]=r\n",
    "    iteration_function(arr,r)\n",
    "\n",
    "initialize(100)    \n",
    "          \n",
    "\n",
    "    "
   ]
  },
  {
   "cell_type": "markdown",
   "metadata": {},
   "source": [
    "Calculate Reward"
   ]
  },
  {
   "cell_type": "code",
   "execution_count": 9,
   "metadata": {},
   "outputs": [],
   "source": [
    "def calculate_reward(x,y,r):\n",
    "   if(x==0 and y==0):\n",
    "        return r\n",
    "   elif(x==0 and y==2):\n",
    "        return 10\n",
    "   else:\n",
    "        return -1\n",
    "         \n",
    "  "
   ]
  },
  {
   "cell_type": "markdown",
   "metadata": {},
   "source": [
    "Calculate Transition function"
   ]
  },
  {
   "cell_type": "code",
   "execution_count": 30,
   "metadata": {},
   "outputs": [],
   "source": [
    "\n",
    "def calc_transition(x1,y1,a,x2,y2):\n",
    "    # new state is up\n",
    "    if(x2==x1-1 and y2==y1):\n",
    "        # action is up\n",
    "        if(a==0):\n",
    "            return 0.8\n",
    "        # action is right\n",
    "        elif(a==2):\n",
    "            return 0.1\n",
    "        # action is left\n",
    "        elif(a==3):\n",
    "            return 0.1\n",
    "    # new state is down    \n",
    "    elif(x2==x1+1 and y2==y1):\n",
    "        # action is down\n",
    "        if(a==1):\n",
    "            return 0.8\n",
    "        # action is right\n",
    "        elif(a==2):\n",
    "            return 0.1\n",
    "        # action is left\n",
    "        elif(a==3):\n",
    "            return 0.1\n",
    "    # new state is right    \n",
    "    elif(x2==x1 and y2==y1+1):\n",
    "        # action is right\n",
    "        if(a==2):\n",
    "            return 0.8\n",
    "        # action is up\n",
    "        elif(a==0):\n",
    "            return 0.1\n",
    "        # action is down\n",
    "        elif(a==1):\n",
    "            return 0.1\n",
    "    # new state is left\n",
    "    elif(x2==x1 and y2==y1-1):\n",
    "        # action is left\n",
    "        if(a==3):\n",
    "            return 0.8\n",
    "        # action is up\n",
    "        elif(a==0):\n",
    "            return 0.1\n",
    "        # action is down\n",
    "        elif(a==1):\n",
    "            return 0.1\n",
    "       \n",
    "                \n",
    "\n",
    "\n",
    "\n",
    "\n"
   ]
  },
  {
   "cell_type": "code",
   "execution_count": 39,
   "metadata": {},
   "outputs": [],
   "source": [
    "import numpy as np\n",
    "\n",
    "\n",
    "actions = [0, 1, 2, 3]\n",
    "\n",
    "movements = {0: (-1, 0), 1: (1, 0), 2: (0, 1), 3: (0, -1)}\n",
    "\n",
    "def iteration_function(arr, r):\n",
    "    print(arr)\n",
    "    delta = 0\n",
    "    while True:\n",
    "        new_arr =[[0,0,0] for i in range(3)]\n",
    "        new_arr[0][2]=10\n",
    "        new_arr[0][0]=r\n",
    "        for i in range(3):\n",
    "            for j in range(3):\n",
    "                if (i == 0 and j == 2) or (i == 0 and j == 0):\n",
    "                    pass\n",
    "                else:\n",
    "                    values = []\n",
    "                    for action in actions:\n",
    "                        ci, cj = i +  movements[action][0], j + movements[action][1]\n",
    "                        if 0 <= ci < 3 and 0 <= cj < 3:\n",
    "                            r1, r2=get_right_angels(action)\n",
    "                            ci1,cj2= movements[r1][0], j + movements[r1][1]\n",
    "                            ci2,cj1= i +  movements[r2][0], j+movements[r2][1]\n",
    "                            result=calc_transition(i,j,action,ci,cj) * ( calculate_reward(ci,cj,r) + 0.99 * arr[ci][ cj])\n",
    "                            if 0 <= ci1 < 3 and 0 <= cj1 < 3:\n",
    "                                result+=calc_transition(i,j,r1,ci1,cj1) * ( calculate_reward(ci1,cj1,r) + 0.99 * arr[ci1][cj1])\n",
    "                            if 0 <= ci2 < 3 and 0 <= cj2 < 3:\n",
    "                                result+=calc_transition(i,j,r2,ci2,cj2) * ( calculate_reward(ci2,cj2,r) + 0.99 * arr[ci2][cj2])\n",
    "                            values.append(result)\n",
    "\n",
    "                    new_arr[i][j] = max(values)\n",
    "                    delta=max(delta, abs(new_arr[i][j] - arr[i][j]))\n",
    "        \n",
    "        if delta<0.0001:\n",
    "            break\n",
    "        arr=new_arr\n",
    "        print(arr) \n",
    "\n",
    "     \n",
    "\n",
    "\n",
    "\n",
    "def get_right_angels(action):\n",
    "    if action == 0:\n",
    "        return 2,3\n",
    "    if action == 1:\n",
    "        return 2,3\n",
    "    if action == 2:\n",
    "        return 0,1\n",
    "    if action == 3:\n",
    "        return 0,1"
   ]
  }
 ],
 "metadata": {
  "kernelspec": {
   "display_name": "Python 3",
   "language": "python",
   "name": "python3"
  },
  "language_info": {
   "codemirror_mode": {
    "name": "ipython",
    "version": 3
   },
   "file_extension": ".py",
   "mimetype": "text/x-python",
   "name": "python",
   "nbconvert_exporter": "python",
   "pygments_lexer": "ipython3",
   "version": "3.11.7"
  }
 },
 "nbformat": 4,
 "nbformat_minor": 2
}
